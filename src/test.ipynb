{
 "metadata": {
  "language_info": {
   "codemirror_mode": {
    "name": "ipython",
    "version": 3
   },
   "file_extension": ".py",
   "mimetype": "text/x-python",
   "name": "python",
   "nbconvert_exporter": "python",
   "pygments_lexer": "ipython3",
   "version": "3.8.8"
  },
  "orig_nbformat": 2,
  "kernelspec": {
   "name": "python388jvsc74a57bd03b1827d4b6462cc460901af0bc0d075c933010817877a813d51f78a107cbf6e5",
   "display_name": "Python 3.8.8 64-bit"
  },
  "metadata": {
   "interpreter": {
    "hash": "3b1827d4b6462cc460901af0bc0d075c933010817877a813d51f78a107cbf6e5"
   }
  }
 },
 "nbformat": 4,
 "nbformat_minor": 2,
 "cells": [
  {
   "cell_type": "code",
   "execution_count": 1,
   "metadata": {},
   "outputs": [],
   "source": [
    "import numpy as np"
   ]
  },
  {
   "source": [
    "## NN Interpolation"
   ],
   "cell_type": "markdown",
   "metadata": {}
  },
  {
   "cell_type": "code",
   "execution_count": 4,
   "metadata": {},
   "outputs": [
    {
     "output_type": "stream",
     "name": "stdout",
     "text": [
      "[[10  4 22]\n [ 2 18  7]\n [ 9 14 25]]\n(3, 3)\n"
     ]
    }
   ],
   "source": [
    "arr = np.array([10, 4, 22, 2, 18, 7, 9, 14, 25]).reshape((3,3))\n",
    "print(arr)\n",
    "print(arr.shape)\n",
    "dest_size = (6, 6)"
   ]
  },
  {
   "cell_type": "code",
   "execution_count": 5,
   "metadata": {},
   "outputs": [
    {
     "output_type": "stream",
     "name": "stdout",
     "text": [
      "[0.5 0.5]\n"
     ]
    }
   ],
   "source": [
    "ratio = np.array(arr.shape)/np.array(dest_size)\n",
    "print(ratio)"
   ]
  },
  {
   "cell_type": "code",
   "execution_count": 24,
   "metadata": {},
   "outputs": [
    {
     "output_type": "stream",
     "name": "stdout",
     "text": [
      "[0 0 1 1 2 2]\n[0 0 1 1 2 2]\n"
     ]
    }
   ],
   "source": [
    "new_row_idx = (np.ceil(np.arange(1, 1 + dest_size[0]) * ratio[0]) - 1).astype(int)\n",
    "new_column_idx = (np.ceil(np.arange(1, 1 + dest_size[1]) * ratio[1]) - 1).astype(int)\n",
    "\n",
    "print(new_row_idx)\n",
    "print(new_column_idx)"
   ]
  },
  {
   "cell_type": "code",
   "execution_count": 14,
   "metadata": {},
   "outputs": [
    {
     "output_type": "error",
     "ename": "IndexError",
     "evalue": "index 3 is out of bounds for axis 1 with size 3",
     "traceback": [
      "\u001b[1;31m---------------------------------------------------------------------------\u001b[0m",
      "\u001b[1;31mIndexError\u001b[0m                                Traceback (most recent call last)",
      "\u001b[1;32m<ipython-input-14-371ece84e9a1>\u001b[0m in \u001b[0;36m<module>\u001b[1;34m\u001b[0m\n\u001b[1;32m----> 1\u001b[1;33m \u001b[0mans\u001b[0m \u001b[1;33m=\u001b[0m \u001b[0marr\u001b[0m\u001b[1;33m[\u001b[0m\u001b[1;33m:\u001b[0m\u001b[1;33m,\u001b[0m \u001b[0mnew_column_idx\u001b[0m\u001b[1;33m]\u001b[0m\u001b[1;33m[\u001b[0m\u001b[0mnew_row_idx\u001b[0m\u001b[1;33m,\u001b[0m \u001b[1;33m:\u001b[0m\u001b[1;33m]\u001b[0m\u001b[1;33m\u001b[0m\u001b[1;33m\u001b[0m\u001b[0m\n\u001b[0m\u001b[0;32m      2\u001b[0m \u001b[0mprint\u001b[0m\u001b[1;33m(\u001b[0m\u001b[0mans\u001b[0m\u001b[1;33m)\u001b[0m\u001b[1;33m\u001b[0m\u001b[1;33m\u001b[0m\u001b[0m\n",
      "\u001b[1;31mIndexError\u001b[0m: index 3 is out of bounds for axis 1 with size 3"
     ]
    }
   ],
   "source": [
    "ans = arr[:, new_column_idx][new_row_idx, :]\n",
    "print(ans)"
   ]
  },
  {
   "cell_type": "code",
   "execution_count": 19,
   "metadata": {},
   "outputs": [],
   "source": [
    "cv_img = arr\n",
    "dst_h = 6\n",
    "dst_w = 6"
   ]
  },
  {
   "cell_type": "code",
   "execution_count": 35,
   "metadata": {},
   "outputs": [
    {
     "output_type": "stream",
     "name": "stdout",
     "text": [
      "2.0 2.0\n[0 0 1 1 2 2]\n[0 0 1 1 2 2]\n[[10 10  4  4 22 22]\n [ 2  2 18 18  7  7]\n [ 9  9 14 14 25 25]]\n[[10  4 22]\n [10  4 22]\n [ 2 18  7]\n [ 2 18  7]\n [ 9 14 25]\n [ 9 14 25]]\n[[10 10  4  4 22 22]\n [10 10  4  4 22 22]\n [ 2  2 18 18  7  7]\n [ 2  2 18 18  7  7]\n [ 9  9 14 14 25 25]\n [ 9  9 14 14 25 25]]\n(6, 6)\n"
     ]
    }
   ],
   "source": [
    "src_H, src_W = cv_img.shape\n",
    "old_size =  cv_img.shape\n",
    "row_ratio, col_ratio = np.array([dst_h, dst_w])/np.array(old_size)\n",
    "\n",
    "print(row_ratio, col_ratio)\n",
    "# row wise interpolation \n",
    "row_idx = (np.ceil(range(1, 1 + int(src_H*row_ratio))/row_ratio) - 1).astype(int)\n",
    "print(row_idx)\n",
    "# column wise interpolation\n",
    "col_idx = (np.ceil(range(1, 1 + int(src_W*col_ratio))/col_ratio) - 1).astype(int)\n",
    "print(col_idx)\n",
    "\n",
    "print(cv_img[:, col_idx])\n",
    "print(cv_img[row_idx, :])\n",
    "\n",
    "final_matrix = cv_img[:, col_idx][row_idx, :]\n",
    "print(final_matrix)\n",
    "print(final_matrix.shape)"
   ]
  }
 ]
}